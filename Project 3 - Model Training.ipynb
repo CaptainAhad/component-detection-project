{
 "cells": [
  {
   "cell_type": "code",
   "execution_count": 1,
   "metadata": {},
   "outputs": [],
   "source": [
    "from ultralytics import YOLO\n",
    "\n",
    "import os"
   ]
  },
  {
   "cell_type": "code",
   "execution_count": 4,
   "metadata": {},
   "outputs": [],
   "source": [
    "#Loading model\n",
    "\n",
    "model = YOLO(\"content/runs/detect/train72/weights/best.pt\")"
   ]
  },
  {
   "cell_type": "code",
   "execution_count": 6,
   "metadata": {},
   "outputs": [
    {
     "name": "stdout",
     "output_type": "stream",
     "text": [
      "\n",
      "image 1/1 c:\\Users\\ahadr\\Desktop\\Aerospace Engineering\\F2024\\AER 850\\Project-3\\evaluation\\ardmega.jpg: 640x704 12 Capacitors, 8 Connectors, 1 Diode, 8 ICs, 6 Leds, 15 Resistors, 3 Transistors, 28.0ms\n",
      "Speed: 10.0ms preprocess, 28.0ms inference, 128.0ms postprocess per image at shape (1, 3, 640, 704)\n"
     ]
    },
    {
     "data": {
      "text/plain": [
       "[ultralytics.engine.results.Results object with attributes:\n",
       " \n",
       " boxes: ultralytics.engine.results.Boxes object\n",
       " keypoints: None\n",
       " masks: None\n",
       " names: {0: 'Button', 1: 'Capacitor', 2: 'Connector', 3: 'Diode', 4: 'Electrolytic Capacitor', 5: 'IC', 6: 'Inductor', 7: 'Led', 8: 'Pads', 9: 'Pins', 10: 'Resistor', 11: 'Switch', 12: 'Transistor'}\n",
       " obb: None\n",
       " orig_img: array([[[123, 185, 196],\n",
       "         [118, 180, 191],\n",
       "         [118, 180, 191],\n",
       "         ...,\n",
       "         [121, 184, 198],\n",
       "         [117, 180, 194],\n",
       "         [116, 179, 193]],\n",
       " \n",
       "        [[127, 189, 200],\n",
       "         [120, 181, 195],\n",
       "         [118, 179, 193],\n",
       "         ...,\n",
       "         [117, 180, 194],\n",
       "         [112, 175, 189],\n",
       "         [112, 175, 189]],\n",
       " \n",
       "        [[125, 186, 200],\n",
       "         [120, 181, 195],\n",
       "         [120, 181, 195],\n",
       "         ...,\n",
       "         [114, 177, 191],\n",
       "         [109, 172, 186],\n",
       "         [109, 172, 186]],\n",
       " \n",
       "        ...,\n",
       " \n",
       "        [[134, 187, 200],\n",
       "         [133, 186, 199],\n",
       "         [132, 185, 198],\n",
       "         ...,\n",
       "         [139, 192, 205],\n",
       "         [139, 192, 205],\n",
       "         [140, 193, 206]],\n",
       " \n",
       "        [[133, 186, 199],\n",
       "         [132, 185, 198],\n",
       "         [131, 184, 197],\n",
       "         ...,\n",
       "         [138, 191, 204],\n",
       "         [138, 191, 204],\n",
       "         [139, 192, 205]],\n",
       " \n",
       "        [[133, 186, 199],\n",
       "         [133, 186, 199],\n",
       "         [132, 185, 198],\n",
       "         ...,\n",
       "         [140, 193, 206],\n",
       "         [141, 194, 207],\n",
       "         [142, 195, 208]]], dtype=uint8)\n",
       " orig_shape: (4459, 5013)\n",
       " path: 'c:\\\\Users\\\\ahadr\\\\Desktop\\\\Aerospace Engineering\\\\F2024\\\\AER 850\\\\Project-3\\\\evaluation\\\\ardmega.jpg'\n",
       " probs: None\n",
       " save_dir: 'runs\\\\detect\\\\predict'\n",
       " speed: {'preprocess': 9.999752044677734, 'inference': 28.023719787597656, 'postprocess': 128.01146507263184}]"
      ]
     },
     "execution_count": 6,
     "metadata": {},
     "output_type": "execute_result"
    }
   ],
   "source": [
    "model.predict('evaluation/ardmega.jpg')"
   ]
  },
  {
   "cell_type": "code",
   "execution_count": null,
   "metadata": {},
   "outputs": [],
   "source": []
  }
 ],
 "metadata": {
  "kernelspec": {
   "display_name": "base",
   "language": "python",
   "name": "python3"
  },
  "language_info": {
   "codemirror_mode": {
    "name": "ipython",
    "version": 3
   },
   "file_extension": ".py",
   "mimetype": "text/x-python",
   "name": "python",
   "nbconvert_exporter": "python",
   "pygments_lexer": "ipython3",
   "version": "3.12.7"
  }
 },
 "nbformat": 4,
 "nbformat_minor": 2
}
