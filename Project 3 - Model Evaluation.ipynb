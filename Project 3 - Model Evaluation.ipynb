{
 "cells": [
  {
   "cell_type": "code",
   "execution_count": 7,
   "metadata": {},
   "outputs": [],
   "source": [
    "from ultralytics import YOLO\n",
    "import numpy as np\n",
    "import cv2 as cv\n",
    "import os\n",
    "import glob\n",
    "import matplotlib.pyplot as plt"
   ]
  },
  {
   "cell_type": "code",
   "execution_count": 2,
   "metadata": {},
   "outputs": [],
   "source": [
    "#Loading model\n",
    "model = YOLO(\"runs/detect/train72/weights/best.pt\")"
   ]
  },
  {
   "cell_type": "code",
   "execution_count": 5,
   "metadata": {},
   "outputs": [
    {
     "name": "stdout",
     "output_type": "stream",
     "text": [
      "['evaluation\\\\ardmega.jpg', 'evaluation\\\\arduno.jpg', 'evaluation\\\\rasppi.jpg']\n"
     ]
    }
   ],
   "source": [
    "#Load evaluation images\n",
    "\n",
    "eval_folder = 'evaluation'\n",
    "\n",
    "eval_imgs = []\n",
    "\n",
    "eval_imgs = glob.glob(f\"{eval_folder}/*.jpg\")"
   ]
  },
  {
   "cell_type": "code",
   "execution_count": 23,
   "metadata": {},
   "outputs": [
    {
     "name": "stdout",
     "output_type": "stream",
     "text": [
      "\n",
      "image 1/1 c:\\Users\\ahadr\\Desktop\\Aerospace Engineering\\F2024\\AER 850\\Project-3\\evaluation\\ardmega.jpg: 640x704 12 Capacitors, 8 Connectors, 1 Diode, 8 ICs, 6 Leds, 15 Resistors, 3 Transistors, 80.0ms\n",
      "Speed: 7.0ms preprocess, 80.0ms inference, 6.0ms postprocess per image at shape (1, 3, 640, 704)\n",
      "Results saved to \u001b[1mpredictions\\evaluation\\ardmega.jpg\u001b[0m\n",
      "1 label saved to predictions\\evaluation\\ardmega.jpg\\labels\n",
      "\n",
      "image 1/1 c:\\Users\\ahadr\\Desktop\\Aerospace Engineering\\F2024\\AER 850\\Project-3\\evaluation\\arduno.jpg: 480x704 1 Button, 18 Capacitors, 11 Connectors, 2 Electrolytic Capacitors, 7 ICs, 2 Leds, 6 Resistors, 1 Transistor, 91.0ms\n",
      "Speed: 5.0ms preprocess, 91.0ms inference, 5.0ms postprocess per image at shape (1, 3, 480, 704)\n",
      "Results saved to \u001b[1mpredictions\\evaluation\\arduno.jpg\u001b[0m\n",
      "1 label saved to predictions\\evaluation\\arduno.jpg\\labels\n",
      "\n",
      "image 1/1 c:\\Users\\ahadr\\Desktop\\Aerospace Engineering\\F2024\\AER 850\\Project-3\\evaluation\\rasppi.jpg: 480x704 11 Capacitors, 12 Connectors, 1 Electrolytic Capacitor, 9 ICs, 2 Leds, 1 Pads, 11 Resistors, 57.0ms\n",
      "Speed: 5.0ms preprocess, 57.0ms inference, 6.0ms postprocess per image at shape (1, 3, 480, 704)\n",
      "Results saved to \u001b[1mpredictions\\evaluation\\rasppi.jpg\u001b[0m\n",
      "1 label saved to predictions\\evaluation\\rasppi.jpg\\labels\n"
     ]
    }
   ],
   "source": [
    "#Making predictions and drawing bounding boxes\n",
    "\n",
    "class_names = model.names\n",
    "\n",
    "save_folder = 'predictions'\n",
    "\n",
    "for img_path in eval_imgs:\n",
    "    results = model.predict(source=img_path, save=True, save_txt=True, project=save_folder, name=img_path )\n",
    "    "
   ]
  }
 ],
 "metadata": {
  "kernelspec": {
   "display_name": "base",
   "language": "python",
   "name": "python3"
  },
  "language_info": {
   "codemirror_mode": {
    "name": "ipython",
    "version": 3
   },
   "file_extension": ".py",
   "mimetype": "text/x-python",
   "name": "python",
   "nbconvert_exporter": "python",
   "pygments_lexer": "ipython3",
   "version": "3.12.7"
  }
 },
 "nbformat": 4,
 "nbformat_minor": 2
}
